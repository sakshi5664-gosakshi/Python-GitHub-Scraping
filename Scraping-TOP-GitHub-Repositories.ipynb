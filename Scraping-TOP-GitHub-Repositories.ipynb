{
 "cells": [
  {
   "cell_type": "markdown",
   "metadata": {},
   "source": [
    "# Web Scraping TOP GitHub Repositories for Topics Page (https://github.com/topics)\n",
    "\n",
    "#### TODO:\n",
    "    - Introduction about WEB SCRAPING\n",
    "    - Introduction about GitHub and the PROBLEM STATEMENT\n",
    "    - Tools used (Python, Requests, Beautiful Soup, Pandas)"
   ]
  },
  {
   "cell_type": "markdown",
   "metadata": {},
   "source": [
    "## OUTLINE:\n",
    "\n",
    "- Scrape https://github.com/topics\n",
    "- Then take a list of topics. For each topic, we have topic title, topic page URL and topic description\n",
    "- Each topic, there are top 25 repositories in the topic from the topic page\n",
    "- Each repository, we'll grab the repo name, username, stars and repo URL\n",
    "- Each topic we are going to create a CSV file in the following format:\n",
    "```\n",
    "  Repo Name,Username,Stars,Repo URL\n",
    "  three.js,mrdoob,69700,https://github.com/mrdoob/three.js\n",
    "  libgdx,libgdx,18300,https://github.com/libgdx/libgdx\n",
    "```"
   ]
  },
  {
   "cell_type": "markdown",
   "metadata": {},
   "source": [
    "## 1. Scrape https://github.com/topics\n",
    "\n",
    "- Python REQUEST Module to download the Page\n",
    "- BS4 Python library to parse and extract data\n",
    "- Using PANDAS we are converting the data to a Dataframe"
   ]
  },
  {
   "cell_type": "markdown",
   "metadata": {},
   "source": [
    "#### Installing Modules"
   ]
  },
  {
   "cell_type": "code",
   "execution_count": 1,
   "metadata": {},
   "outputs": [
    {
     "name": "stderr",
     "output_type": "stream",
     "text": [
      "WARNING: You are using pip version 20.1.1; however, version 22.0.3 is available.\n",
      "You should consider upgrading via the 'c:\\users\\singh\\appdata\\local\\programs\\python\\python37-32\\python.exe -m pip install --upgrade pip' command.\n",
      "WARNING: You are using pip version 20.1.1; however, version 22.0.3 is available.\n",
      "You should consider upgrading via the 'c:\\users\\singh\\appdata\\local\\programs\\python\\python37-32\\python.exe -m pip install --upgrade pip' command.\n",
      "WARNING: You are using pip version 20.1.1; however, version 22.0.3 is available.\n",
      "You should consider upgrading via the 'c:\\users\\singh\\appdata\\local\\programs\\python\\python37-32\\python.exe -m pip install --upgrade pip' command.\n"
     ]
    }
   ],
   "source": [
    "!pip install requests --upgrade --quiet\n",
    "!pip install pandas --upgrade --quiet\n",
    "!pip install beautifulsoup4 --upgrade --quiet"
   ]
  },
  {
   "cell_type": "markdown",
   "metadata": {},
   "source": [
    "#### Importing Modules"
   ]
  },
  {
   "cell_type": "code",
   "execution_count": 2,
   "metadata": {},
   "outputs": [],
   "source": [
    "import os\n",
    "import requests\n",
    "from bs4 import BeautifulSoup\n",
    "import pandas as pd"
   ]
  },
  {
   "cell_type": "markdown",
   "metadata": {},
   "source": [
    "#### Function to Download the Page"
   ]
  },
  {
   "cell_type": "code",
   "execution_count": 3,
   "metadata": {},
   "outputs": [],
   "source": [
    "def get_topics_page():\n",
    "    \n",
    "    # Topics URL Page\n",
    "    topic_url = 'https://github.com/topics'\n",
    "    \n",
    "    # Download the page\n",
    "    response = requests.get(topic_url)\n",
    "    \n",
    "    #Check successful response\n",
    "    if response.status_code != 200:\n",
    "        raise Exception('Failed to load page {}'.format(topic_url))\n",
    "        \n",
    "    # Parse using Beautiful Soup\n",
    "    topic_doc = BeautifulSoup(response.text, 'html.parser')\n",
    "    \n",
    "    return topic_doc"
   ]
  },
  {
   "cell_type": "markdown",
   "metadata": {},
   "source": [
    "#### Get the topics doc:"
   ]
  },
  {
   "cell_type": "code",
   "execution_count": 4,
   "metadata": {},
   "outputs": [],
   "source": [
    "doc = get_topics_page()"
   ]
  },
  {
   "cell_type": "markdown",
   "metadata": {},
   "source": [
    "#### Checking the type of doc:"
   ]
  },
  {
   "cell_type": "code",
   "execution_count": 5,
   "metadata": {},
   "outputs": [
    {
     "data": {
      "text/plain": [
       "bs4.BeautifulSoup"
      ]
     },
     "execution_count": 5,
     "metadata": {},
     "output_type": "execute_result"
    }
   ],
   "source": [
    "type(doc)"
   ]
  },
  {
   "cell_type": "markdown",
   "metadata": {},
   "source": [
    "#### Find some values from the doc:"
   ]
  },
  {
   "cell_type": "code",
   "execution_count": 6,
   "metadata": {},
   "outputs": [
    {
     "data": {
      "text/plain": [
       "<a class=\"px-2 py-4 color-bg-accent-emphasis color-fg-on-emphasis show-on-focus js-skip-to-content\" href=\"#start-of-content\">Skip to content</a>"
      ]
     },
     "execution_count": 6,
     "metadata": {},
     "output_type": "execute_result"
    }
   ],
   "source": [
    "doc.find('a')"
   ]
  },
  {
   "cell_type": "markdown",
   "metadata": {},
   "source": [
    "### Creating Helper Functions: To parse information from the page\n",
    "\n",
    "To get topic titles, we can pick `p` tags with the `class`, we can INSPECT the https://github.com/topics Page. And the result will be something like this:\n",
    "\n",
    "\n",
    "\n",
    "![title](images/Topics-P_Tag.PNG)\n"
   ]
  },
  {
   "cell_type": "code",
   "execution_count": 7,
   "metadata": {},
   "outputs": [],
   "source": [
    "def get_topic_titles(doc):\n",
    "    title_selector = 'f3 lh-condensed mb-0 mt-1 Link--primary'\n",
    "    topic_title_tags = doc.find_all('p', {'class' : title_selector})\n",
    "    \n",
    "    topic_titles = []\n",
    "    for tag in topic_title_tags:\n",
    "        topic_titles.append(tag.text)\n",
    "    \n",
    "    return topic_titles"
   ]
  },
  {
   "cell_type": "markdown",
   "metadata": {},
   "source": [
    "`get_topic_titles` : Used to get list of TITLES"
   ]
  },
  {
   "cell_type": "code",
   "execution_count": 8,
   "metadata": {},
   "outputs": [],
   "source": [
    "titles = get_topic_titles(doc)"
   ]
  },
  {
   "cell_type": "code",
   "execution_count": 9,
   "metadata": {},
   "outputs": [
    {
     "data": {
      "text/plain": [
       "30"
      ]
     },
     "execution_count": 9,
     "metadata": {},
     "output_type": "execute_result"
    }
   ],
   "source": [
    "len(titles)"
   ]
  },
  {
   "cell_type": "code",
   "execution_count": 10,
   "metadata": {},
   "outputs": [
    {
     "data": {
      "text/plain": [
       "['3D', 'Ajax', 'Algorithm', 'Amp', 'Android']"
      ]
     },
     "execution_count": 10,
     "metadata": {},
     "output_type": "execute_result"
    }
   ],
   "source": [
    "titles[:5]"
   ]
  },
  {
   "cell_type": "markdown",
   "metadata": {},
   "source": [
    "`get_topic_descs` : Similarly, we have defined functions for descriptions"
   ]
  },
  {
   "cell_type": "code",
   "execution_count": 11,
   "metadata": {},
   "outputs": [],
   "source": [
    "def get_topic_descs(doc):\n",
    "    desc_selector = 'f5 color-fg-muted mb-0 mt-1'\n",
    "    topic_desc_tags = doc.find_all('p', {'class' : desc_selector})\n",
    "    \n",
    "    topic_descs = []\n",
    "    for tag in topic_desc_tags:\n",
    "        topic_descs.append(tag.text.strip())\n",
    "        \n",
    "    return topic_descs"
   ]
  },
  {
   "cell_type": "code",
   "execution_count": 13,
   "metadata": {},
   "outputs": [],
   "source": [
    "descriptions = get_topic_descs(doc)"
   ]
  },
  {
   "cell_type": "code",
   "execution_count": 15,
   "metadata": {},
   "outputs": [
    {
     "data": {
      "text/plain": [
       "['3D modeling is the process of virtually developing the surface and structure of a 3D object.',\n",
       " 'Ajax is a technique for creating interactive web applications.',\n",
       " 'Algorithms are self-contained sequences that carry out a variety of tasks.',\n",
       " 'Amp is a non-blocking concurrency library for PHP.',\n",
       " 'Android is an operating system built by Google designed for mobile devices.']"
      ]
     },
     "execution_count": 15,
     "metadata": {},
     "output_type": "execute_result"
    }
   ],
   "source": [
    "descriptions[:5]"
   ]
  },
  {
   "cell_type": "markdown",
   "metadata": {},
   "source": [
    "`get_topic_urls` : And then we have URLs"
   ]
  },
  {
   "cell_type": "code",
   "execution_count": 16,
   "metadata": {},
   "outputs": [],
   "source": [
    "def get_topic_urls(doc):\n",
    "    topic_link_tags = doc.find_all('a', {'class' : 'no-underline flex-1 d-flex flex-column'})\n",
    "    \n",
    "    topic_urls = []\n",
    "    base_url = \"https://github.com\"\n",
    "    for tag in topic_link_tags:\n",
    "        topic_urls.append(base_url + tag['href'])\n",
    "    \n",
    "    return topic_urls"
   ]
  },
  {
   "cell_type": "code",
   "execution_count": 18,
   "metadata": {},
   "outputs": [],
   "source": [
    "urls = get_topic_urls(doc)"
   ]
  },
  {
   "cell_type": "code",
   "execution_count": 20,
   "metadata": {},
   "outputs": [
    {
     "data": {
      "text/plain": [
       "['https://github.com/topics/3d',\n",
       " 'https://github.com/topics/ajax',\n",
       " 'https://github.com/topics/algorithm',\n",
       " 'https://github.com/topics/amphp',\n",
       " 'https://github.com/topics/android']"
      ]
     },
     "execution_count": 20,
     "metadata": {},
     "output_type": "execute_result"
    }
   ],
   "source": [
    "urls[:5]"
   ]
  },
  {
   "cell_type": "markdown",
   "metadata": {},
   "source": [
    "Let's use all these together in one function i.e. `scrape_topics`"
   ]
  },
  {
   "cell_type": "code",
   "execution_count": 21,
   "metadata": {},
   "outputs": [],
   "source": [
    "def scrape_topics():\n",
    "    topic_url = \"https://github.com/topics\"\n",
    "    response = requests.get(topic_url)\n",
    "    if response.status_code != 200:\n",
    "        raise Exception('Failed to load page {}'.format(topic_url))\n",
    "    \n",
    "    doc = BeautifulSoup(response.text, 'html.parser')\n",
    "    \n",
    "    topics_dict = {\n",
    "        'Title' : get_topic_titles(doc),\n",
    "        'Description' : get_topic_descs(doc),\n",
    "        'URL' : get_topic_urls(doc)\n",
    "    }\n",
    "    \n",
    "    return pd.DataFrame(topics_dict)"
   ]
  },
  {
   "cell_type": "code",
   "execution_count": 22,
   "metadata": {},
   "outputs": [
    {
     "data": {
      "text/html": [
       "<div>\n",
       "<style scoped>\n",
       "    .dataframe tbody tr th:only-of-type {\n",
       "        vertical-align: middle;\n",
       "    }\n",
       "\n",
       "    .dataframe tbody tr th {\n",
       "        vertical-align: top;\n",
       "    }\n",
       "\n",
       "    .dataframe thead th {\n",
       "        text-align: right;\n",
       "    }\n",
       "</style>\n",
       "<table border=\"1\" class=\"dataframe\">\n",
       "  <thead>\n",
       "    <tr style=\"text-align: right;\">\n",
       "      <th></th>\n",
       "      <th>Title</th>\n",
       "      <th>Description</th>\n",
       "      <th>URL</th>\n",
       "    </tr>\n",
       "  </thead>\n",
       "  <tbody>\n",
       "    <tr>\n",
       "      <th>0</th>\n",
       "      <td>3D</td>\n",
       "      <td>3D modeling is the process of virtually develo...</td>\n",
       "      <td>https://github.com/topics/3d</td>\n",
       "    </tr>\n",
       "    <tr>\n",
       "      <th>1</th>\n",
       "      <td>Ajax</td>\n",
       "      <td>Ajax is a technique for creating interactive w...</td>\n",
       "      <td>https://github.com/topics/ajax</td>\n",
       "    </tr>\n",
       "    <tr>\n",
       "      <th>2</th>\n",
       "      <td>Algorithm</td>\n",
       "      <td>Algorithms are self-contained sequences that c...</td>\n",
       "      <td>https://github.com/topics/algorithm</td>\n",
       "    </tr>\n",
       "    <tr>\n",
       "      <th>3</th>\n",
       "      <td>Amp</td>\n",
       "      <td>Amp is a non-blocking concurrency library for ...</td>\n",
       "      <td>https://github.com/topics/amphp</td>\n",
       "    </tr>\n",
       "    <tr>\n",
       "      <th>4</th>\n",
       "      <td>Android</td>\n",
       "      <td>Android is an operating system built by Google...</td>\n",
       "      <td>https://github.com/topics/android</td>\n",
       "    </tr>\n",
       "    <tr>\n",
       "      <th>5</th>\n",
       "      <td>Angular</td>\n",
       "      <td>Angular is an open source web application plat...</td>\n",
       "      <td>https://github.com/topics/angular</td>\n",
       "    </tr>\n",
       "    <tr>\n",
       "      <th>6</th>\n",
       "      <td>Ansible</td>\n",
       "      <td>Ansible is a simple and powerful automation en...</td>\n",
       "      <td>https://github.com/topics/ansible</td>\n",
       "    </tr>\n",
       "    <tr>\n",
       "      <th>7</th>\n",
       "      <td>API</td>\n",
       "      <td>An API (Application Programming Interface) is ...</td>\n",
       "      <td>https://github.com/topics/api</td>\n",
       "    </tr>\n",
       "    <tr>\n",
       "      <th>8</th>\n",
       "      <td>Arduino</td>\n",
       "      <td>Arduino is an open source hardware and softwar...</td>\n",
       "      <td>https://github.com/topics/arduino</td>\n",
       "    </tr>\n",
       "    <tr>\n",
       "      <th>9</th>\n",
       "      <td>ASP.NET</td>\n",
       "      <td>ASP.NET is a web framework for building modern...</td>\n",
       "      <td>https://github.com/topics/aspnet</td>\n",
       "    </tr>\n",
       "    <tr>\n",
       "      <th>10</th>\n",
       "      <td>Atom</td>\n",
       "      <td>Atom is a open source text editor built with w...</td>\n",
       "      <td>https://github.com/topics/atom</td>\n",
       "    </tr>\n",
       "    <tr>\n",
       "      <th>11</th>\n",
       "      <td>Awesome Lists</td>\n",
       "      <td>An awesome list is a list of awesome things cu...</td>\n",
       "      <td>https://github.com/topics/awesome</td>\n",
       "    </tr>\n",
       "    <tr>\n",
       "      <th>12</th>\n",
       "      <td>Amazon Web Services</td>\n",
       "      <td>Amazon Web Services provides on-demand cloud c...</td>\n",
       "      <td>https://github.com/topics/aws</td>\n",
       "    </tr>\n",
       "    <tr>\n",
       "      <th>13</th>\n",
       "      <td>Azure</td>\n",
       "      <td>Azure is a cloud computing service created by ...</td>\n",
       "      <td>https://github.com/topics/azure</td>\n",
       "    </tr>\n",
       "    <tr>\n",
       "      <th>14</th>\n",
       "      <td>Babel</td>\n",
       "      <td>Babel is a compiler for writing next generatio...</td>\n",
       "      <td>https://github.com/topics/babel</td>\n",
       "    </tr>\n",
       "    <tr>\n",
       "      <th>15</th>\n",
       "      <td>Bash</td>\n",
       "      <td>Bash is a shell and command language interpret...</td>\n",
       "      <td>https://github.com/topics/bash</td>\n",
       "    </tr>\n",
       "    <tr>\n",
       "      <th>16</th>\n",
       "      <td>Bitcoin</td>\n",
       "      <td>Bitcoin is a cryptocurrency developed by Satos...</td>\n",
       "      <td>https://github.com/topics/bitcoin</td>\n",
       "    </tr>\n",
       "    <tr>\n",
       "      <th>17</th>\n",
       "      <td>Bootstrap</td>\n",
       "      <td>Bootstrap is an HTML, CSS, and JavaScript fram...</td>\n",
       "      <td>https://github.com/topics/bootstrap</td>\n",
       "    </tr>\n",
       "    <tr>\n",
       "      <th>18</th>\n",
       "      <td>Bot</td>\n",
       "      <td>A bot is an application that runs automated ta...</td>\n",
       "      <td>https://github.com/topics/bot</td>\n",
       "    </tr>\n",
       "    <tr>\n",
       "      <th>19</th>\n",
       "      <td>C</td>\n",
       "      <td>C is a general purpose programming language th...</td>\n",
       "      <td>https://github.com/topics/c</td>\n",
       "    </tr>\n",
       "    <tr>\n",
       "      <th>20</th>\n",
       "      <td>Chrome</td>\n",
       "      <td>Chrome is a web browser from the tech company ...</td>\n",
       "      <td>https://github.com/topics/chrome</td>\n",
       "    </tr>\n",
       "    <tr>\n",
       "      <th>21</th>\n",
       "      <td>Chrome extension</td>\n",
       "      <td>Google Chrome Extensions are add-ons that allo...</td>\n",
       "      <td>https://github.com/topics/chrome-extension</td>\n",
       "    </tr>\n",
       "    <tr>\n",
       "      <th>22</th>\n",
       "      <td>Command line interface</td>\n",
       "      <td>A CLI, or command-line interface, is a console...</td>\n",
       "      <td>https://github.com/topics/cli</td>\n",
       "    </tr>\n",
       "    <tr>\n",
       "      <th>23</th>\n",
       "      <td>Clojure</td>\n",
       "      <td>Clojure is a dynamic, general-purpose programm...</td>\n",
       "      <td>https://github.com/topics/clojure</td>\n",
       "    </tr>\n",
       "    <tr>\n",
       "      <th>24</th>\n",
       "      <td>Code quality</td>\n",
       "      <td>Automate your code review with style, quality,...</td>\n",
       "      <td>https://github.com/topics/code-quality</td>\n",
       "    </tr>\n",
       "    <tr>\n",
       "      <th>25</th>\n",
       "      <td>Code review</td>\n",
       "      <td>Ensure your code meets quality standards and s...</td>\n",
       "      <td>https://github.com/topics/code-review</td>\n",
       "    </tr>\n",
       "    <tr>\n",
       "      <th>26</th>\n",
       "      <td>Compiler</td>\n",
       "      <td>Compilers are software that translate higher-l...</td>\n",
       "      <td>https://github.com/topics/compiler</td>\n",
       "    </tr>\n",
       "    <tr>\n",
       "      <th>27</th>\n",
       "      <td>Continuous integration</td>\n",
       "      <td>Automatically build and test your code as you ...</td>\n",
       "      <td>https://github.com/topics/continuous-integration</td>\n",
       "    </tr>\n",
       "    <tr>\n",
       "      <th>28</th>\n",
       "      <td>COVID-19</td>\n",
       "      <td>The coronavirus disease 2019 (COVID-19) is an ...</td>\n",
       "      <td>https://github.com/topics/covid-19</td>\n",
       "    </tr>\n",
       "    <tr>\n",
       "      <th>29</th>\n",
       "      <td>C++</td>\n",
       "      <td>C++ is a general purpose and object-oriented p...</td>\n",
       "      <td>https://github.com/topics/cpp</td>\n",
       "    </tr>\n",
       "  </tbody>\n",
       "</table>\n",
       "</div>"
      ],
      "text/plain": [
       "                     Title                                        Description  \\\n",
       "0                       3D  3D modeling is the process of virtually develo...   \n",
       "1                     Ajax  Ajax is a technique for creating interactive w...   \n",
       "2                Algorithm  Algorithms are self-contained sequences that c...   \n",
       "3                      Amp  Amp is a non-blocking concurrency library for ...   \n",
       "4                  Android  Android is an operating system built by Google...   \n",
       "5                  Angular  Angular is an open source web application plat...   \n",
       "6                  Ansible  Ansible is a simple and powerful automation en...   \n",
       "7                      API  An API (Application Programming Interface) is ...   \n",
       "8                  Arduino  Arduino is an open source hardware and softwar...   \n",
       "9                  ASP.NET  ASP.NET is a web framework for building modern...   \n",
       "10                    Atom  Atom is a open source text editor built with w...   \n",
       "11           Awesome Lists  An awesome list is a list of awesome things cu...   \n",
       "12     Amazon Web Services  Amazon Web Services provides on-demand cloud c...   \n",
       "13                   Azure  Azure is a cloud computing service created by ...   \n",
       "14                   Babel  Babel is a compiler for writing next generatio...   \n",
       "15                    Bash  Bash is a shell and command language interpret...   \n",
       "16                 Bitcoin  Bitcoin is a cryptocurrency developed by Satos...   \n",
       "17               Bootstrap  Bootstrap is an HTML, CSS, and JavaScript fram...   \n",
       "18                     Bot  A bot is an application that runs automated ta...   \n",
       "19                       C  C is a general purpose programming language th...   \n",
       "20                  Chrome  Chrome is a web browser from the tech company ...   \n",
       "21        Chrome extension  Google Chrome Extensions are add-ons that allo...   \n",
       "22  Command line interface  A CLI, or command-line interface, is a console...   \n",
       "23                 Clojure  Clojure is a dynamic, general-purpose programm...   \n",
       "24            Code quality  Automate your code review with style, quality,...   \n",
       "25             Code review  Ensure your code meets quality standards and s...   \n",
       "26                Compiler  Compilers are software that translate higher-l...   \n",
       "27  Continuous integration  Automatically build and test your code as you ...   \n",
       "28                COVID-19  The coronavirus disease 2019 (COVID-19) is an ...   \n",
       "29                     C++  C++ is a general purpose and object-oriented p...   \n",
       "\n",
       "                                                 URL  \n",
       "0                       https://github.com/topics/3d  \n",
       "1                     https://github.com/topics/ajax  \n",
       "2                https://github.com/topics/algorithm  \n",
       "3                    https://github.com/topics/amphp  \n",
       "4                  https://github.com/topics/android  \n",
       "5                  https://github.com/topics/angular  \n",
       "6                  https://github.com/topics/ansible  \n",
       "7                      https://github.com/topics/api  \n",
       "8                  https://github.com/topics/arduino  \n",
       "9                   https://github.com/topics/aspnet  \n",
       "10                    https://github.com/topics/atom  \n",
       "11                 https://github.com/topics/awesome  \n",
       "12                     https://github.com/topics/aws  \n",
       "13                   https://github.com/topics/azure  \n",
       "14                   https://github.com/topics/babel  \n",
       "15                    https://github.com/topics/bash  \n",
       "16                 https://github.com/topics/bitcoin  \n",
       "17               https://github.com/topics/bootstrap  \n",
       "18                     https://github.com/topics/bot  \n",
       "19                       https://github.com/topics/c  \n",
       "20                  https://github.com/topics/chrome  \n",
       "21        https://github.com/topics/chrome-extension  \n",
       "22                     https://github.com/topics/cli  \n",
       "23                 https://github.com/topics/clojure  \n",
       "24            https://github.com/topics/code-quality  \n",
       "25             https://github.com/topics/code-review  \n",
       "26                https://github.com/topics/compiler  \n",
       "27  https://github.com/topics/continuous-integration  \n",
       "28                https://github.com/topics/covid-19  \n",
       "29                     https://github.com/topics/cpp  "
      ]
     },
     "execution_count": 22,
     "metadata": {},
     "output_type": "execute_result"
    }
   ],
   "source": [
    "scrape_topics()"
   ]
  },
  {
   "cell_type": "markdown",
   "metadata": {},
   "source": [
    "## 2. Get the TOP 25 repositories from the TOPICS page\n",
    "\n",
    "- Extracting Single TOPIC Page\n",
    "- From that Page we extract `h3` tags\n",
    "- Extracting repositories from Topics page\n",
    "- Converting those repos in CSV files"
   ]
  },
  {
   "cell_type": "markdown",
   "metadata": {},
   "source": [
    "### Giving URL and extracting Topics Page"
   ]
  },
  {
   "cell_type": "code",
   "execution_count": 23,
   "metadata": {},
   "outputs": [],
   "source": [
    "def get_topic_page(topic_url):\n",
    "    # Download the page\n",
    "    response = requests.get(topic_url)\n",
    "    \n",
    "    #Check successful response\n",
    "    if response.status_code != 200:\n",
    "        raise Exception('Failed to load page {}'.format(topic_url))\n",
    "        \n",
    "    # Parse using Beautiful Soup\n",
    "    topic_doc = BeautifulSoup(response.text, 'html.parser')\n",
    "    \n",
    "    return topic_doc\n"
   ]
  },
  {
   "cell_type": "code",
   "execution_count": 24,
   "metadata": {},
   "outputs": [],
   "source": [
    "doc = get_topic_page('https://github.com/topics/3d')"
   ]
  },
  {
   "cell_type": "markdown",
   "metadata": {},
   "source": [
    "### Extracting h3 text from the DOC"
   ]
  },
  {
   "cell_type": "code",
   "execution_count": 26,
   "metadata": {},
   "outputs": [],
   "source": [
    "def parse_star_count(stars_str):\n",
    "    stars_str = stars_str.strip()\n",
    "    if stars_str[-1] == 'k':\n",
    "        return int(float(stars_str[:-1]) * 1000)\n",
    "    return int(stars_str)"
   ]
  },
  {
   "cell_type": "code",
   "execution_count": 27,
   "metadata": {},
   "outputs": [],
   "source": [
    "def get_repo_info(h3_tag, star_tag):\n",
    "    a_tags = h3_tag.find_all('a')\n",
    "    username = a_tags[0].text.strip()\n",
    "    repo_name = a_tags[1].text.strip()\n",
    "    base_url = \"https://github.com\"\n",
    "    repo_url = base_url + a_tags[1]['href']\n",
    "    stars = parse_star_count(star_tag.text.strip())\n",
    "    return username, repo_name, stars, repo_url"
   ]
  },
  {
   "cell_type": "code",
   "execution_count": 28,
   "metadata": {},
   "outputs": [],
   "source": [
    "repo_tags = doc.find_all('h3', {'class' : 'f3 color-fg-muted text-normal lh-condensed'})"
   ]
  },
  {
   "cell_type": "code",
   "execution_count": 29,
   "metadata": {},
   "outputs": [
    {
     "data": {
      "text/plain": [
       "[<h3 class=\"f3 color-fg-muted text-normal lh-condensed\">\n",
       " <a data-ga-click=\"Explore, go to repository owner, location:explore feed\" data-hydro-click='{\"event_type\":\"explore.click\",\"payload\":{\"click_context\":\"REPOSITORY_CARD\",\"click_target\":\"OWNER\",\"click_visual_representation\":\"REPOSITORY_OWNER_HEADING\",\"actor_id\":null,\"record_id\":97088,\"originating_url\":\"https://github.com/topics/3d\",\"user_id\":null}}' data-hydro-click-hmac=\"4bdbc49d3c05ae7f70b531fbce709a384200b0768554e0172950286a8db30940\" data-view-component=\"true\" href=\"/mrdoob\">\n",
       "             mrdoob\n",
       " </a>          /\n",
       "           <a class=\"text-bold wb-break-word\" data-ga-click=\"Explore, go to repository, location:explore feed\" data-hydro-click='{\"event_type\":\"explore.click\",\"payload\":{\"click_context\":\"REPOSITORY_CARD\",\"click_target\":\"REPOSITORY\",\"click_visual_representation\":\"REPOSITORY_NAME_HEADING\",\"actor_id\":null,\"record_id\":576201,\"originating_url\":\"https://github.com/topics/3d\",\"user_id\":null}}' data-hydro-click-hmac=\"517d3d5cb9d89752156923904a4238816bc9b51ab7772f3e3644ce897d8dd4e5\" data-view-component=\"true\" href=\"/mrdoob/three.js\">\n",
       "             three.js\n",
       " </a> </h3>, <h3 class=\"f3 color-fg-muted text-normal lh-condensed\">\n",
       " <a data-ga-click=\"Explore, go to repository owner, location:explore feed\" data-hydro-click='{\"event_type\":\"explore.click\",\"payload\":{\"click_context\":\"REPOSITORY_CARD\",\"click_target\":\"OWNER\",\"click_visual_representation\":\"REPOSITORY_OWNER_HEADING\",\"actor_id\":null,\"record_id\":509841,\"originating_url\":\"https://github.com/topics/3d\",\"user_id\":null}}' data-hydro-click-hmac=\"760dcd7b253cb1a27d9b1a8675e86db885295be4e0d8d9fa7397adf923075d36\" data-view-component=\"true\" href=\"/libgdx\">\n",
       "             libgdx\n",
       " </a>          /\n",
       "           <a class=\"text-bold wb-break-word\" data-ga-click=\"Explore, go to repository, location:explore feed\" data-hydro-click='{\"event_type\":\"explore.click\",\"payload\":{\"click_context\":\"REPOSITORY_CARD\",\"click_target\":\"REPOSITORY\",\"click_visual_representation\":\"REPOSITORY_NAME_HEADING\",\"actor_id\":null,\"record_id\":5373551,\"originating_url\":\"https://github.com/topics/3d\",\"user_id\":null}}' data-hydro-click-hmac=\"ff9d8fbd4b6a268d54aa44ebd06922a789e146ae9d21db01b8ba7839646f5507\" data-view-component=\"true\" href=\"/libgdx/libgdx\">\n",
       "             libgdx\n",
       " </a> </h3>]"
      ]
     },
     "execution_count": 29,
     "metadata": {},
     "output_type": "execute_result"
    }
   ],
   "source": [
    "repo_tags[:2]"
   ]
  },
  {
   "cell_type": "code",
   "execution_count": 30,
   "metadata": {},
   "outputs": [],
   "source": [
    "star_tags = doc.find_all('span', {'class' : 'Counter js-social-count'})"
   ]
  },
  {
   "cell_type": "code",
   "execution_count": 31,
   "metadata": {},
   "outputs": [
    {
     "data": {
      "text/plain": [
       "[<span aria-label=\"79356 users starred this repository\" class=\"Counter js-social-count\" data-pjax-replace=\"true\" data-plural-suffix=\"users starred this repository\" data-singular-suffix=\"user starred this repository\" data-view-component=\"true\" id=\"repo-stars-counter-star\" title=\"79,356\">79.4k</span>,\n",
       " <span aria-label=\"19670 users starred this repository\" class=\"Counter js-social-count\" data-pjax-replace=\"true\" data-plural-suffix=\"users starred this repository\" data-singular-suffix=\"user starred this repository\" data-view-component=\"true\" id=\"repo-stars-counter-star\" title=\"19,670\">19.7k</span>,\n",
       " <span aria-label=\"16900 users starred this repository\" class=\"Counter js-social-count\" data-pjax-replace=\"true\" data-plural-suffix=\"users starred this repository\" data-singular-suffix=\"user starred this repository\" data-view-component=\"true\" id=\"repo-stars-counter-star\" title=\"16,900\">16.9k</span>]"
      ]
     },
     "execution_count": 31,
     "metadata": {},
     "output_type": "execute_result"
    }
   ],
   "source": [
    "star_tags[:3]"
   ]
  },
  {
   "cell_type": "markdown",
   "metadata": {},
   "source": [
    "### Extracting Repositories from the Topics Page"
   ]
  },
  {
   "cell_type": "code",
   "execution_count": 32,
   "metadata": {},
   "outputs": [],
   "source": [
    "def get_topics_repos(topic_doc):\n",
    "        \n",
    "    # get h3 tags containing repo title, repo URL and username\n",
    "    h3_selector = 'f3 color-fg-muted text-normal lh-condensed'\n",
    "    repo_tags = topic_doc.find_all('h3', {'class' : h3_selector})\n",
    "    \n",
    "    # Get star tags\n",
    "    star_tags = topic_doc.find_all('span', {'class' : 'Counter js-social-count'})\n",
    "    \n",
    "    topic_repos_dict = {\n",
    "        'Username' : [],\n",
    "        'Repo_Name' : [],\n",
    "        'Stars' : [],\n",
    "        'Repo_URL' : []\n",
    "    }\n",
    "    \n",
    "    # Get repo info\n",
    "    for i in range(len(repo_tags)):\n",
    "        repo_info = get_repo_info(repo_tags[i], star_tags[i])\n",
    "        topic_repos_dict['Username'].append(repo_info[0])\n",
    "        topic_repos_dict['Repo_Name'].append(repo_info[1])\n",
    "        topic_repos_dict['Stars'].append(repo_info[2])\n",
    "        topic_repos_dict['Repo_URL'].append(repo_info[3])\n",
    "        \n",
    "    return pd.DataFrame(topic_repos_dict)"
   ]
  },
  {
   "cell_type": "code",
   "execution_count": 33,
   "metadata": {},
   "outputs": [
    {
     "data": {
      "text/html": [
       "<div>\n",
       "<style scoped>\n",
       "    .dataframe tbody tr th:only-of-type {\n",
       "        vertical-align: middle;\n",
       "    }\n",
       "\n",
       "    .dataframe tbody tr th {\n",
       "        vertical-align: top;\n",
       "    }\n",
       "\n",
       "    .dataframe thead th {\n",
       "        text-align: right;\n",
       "    }\n",
       "</style>\n",
       "<table border=\"1\" class=\"dataframe\">\n",
       "  <thead>\n",
       "    <tr style=\"text-align: right;\">\n",
       "      <th></th>\n",
       "      <th>Username</th>\n",
       "      <th>Repo_Name</th>\n",
       "      <th>Stars</th>\n",
       "      <th>Repo_URL</th>\n",
       "    </tr>\n",
       "  </thead>\n",
       "  <tbody>\n",
       "    <tr>\n",
       "      <th>0</th>\n",
       "      <td>mrdoob</td>\n",
       "      <td>three.js</td>\n",
       "      <td>79400</td>\n",
       "      <td>https://github.com/mrdoob/three.js</td>\n",
       "    </tr>\n",
       "    <tr>\n",
       "      <th>1</th>\n",
       "      <td>libgdx</td>\n",
       "      <td>libgdx</td>\n",
       "      <td>19700</td>\n",
       "      <td>https://github.com/libgdx/libgdx</td>\n",
       "    </tr>\n",
       "    <tr>\n",
       "      <th>2</th>\n",
       "      <td>pmndrs</td>\n",
       "      <td>react-three-fiber</td>\n",
       "      <td>16900</td>\n",
       "      <td>https://github.com/pmndrs/react-three-fiber</td>\n",
       "    </tr>\n",
       "    <tr>\n",
       "      <th>3</th>\n",
       "      <td>BabylonJS</td>\n",
       "      <td>Babylon.js</td>\n",
       "      <td>16000</td>\n",
       "      <td>https://github.com/BabylonJS/Babylon.js</td>\n",
       "    </tr>\n",
       "    <tr>\n",
       "      <th>4</th>\n",
       "      <td>aframevr</td>\n",
       "      <td>aframe</td>\n",
       "      <td>13800</td>\n",
       "      <td>https://github.com/aframevr/aframe</td>\n",
       "    </tr>\n",
       "    <tr>\n",
       "      <th>5</th>\n",
       "      <td>lettier</td>\n",
       "      <td>3d-game-shaders-for-beginners</td>\n",
       "      <td>12300</td>\n",
       "      <td>https://github.com/lettier/3d-game-shaders-for...</td>\n",
       "    </tr>\n",
       "    <tr>\n",
       "      <th>6</th>\n",
       "      <td>ssloy</td>\n",
       "      <td>tinyrenderer</td>\n",
       "      <td>12100</td>\n",
       "      <td>https://github.com/ssloy/tinyrenderer</td>\n",
       "    </tr>\n",
       "    <tr>\n",
       "      <th>7</th>\n",
       "      <td>FreeCAD</td>\n",
       "      <td>FreeCAD</td>\n",
       "      <td>10800</td>\n",
       "      <td>https://github.com/FreeCAD/FreeCAD</td>\n",
       "    </tr>\n",
       "    <tr>\n",
       "      <th>8</th>\n",
       "      <td>metafizzy</td>\n",
       "      <td>zdog</td>\n",
       "      <td>9000</td>\n",
       "      <td>https://github.com/metafizzy/zdog</td>\n",
       "    </tr>\n",
       "    <tr>\n",
       "      <th>9</th>\n",
       "      <td>CesiumGS</td>\n",
       "      <td>cesium</td>\n",
       "      <td>8300</td>\n",
       "      <td>https://github.com/CesiumGS/cesium</td>\n",
       "    </tr>\n",
       "    <tr>\n",
       "      <th>10</th>\n",
       "      <td>timzhang642</td>\n",
       "      <td>3D-Machine-Learning</td>\n",
       "      <td>7600</td>\n",
       "      <td>https://github.com/timzhang642/3D-Machine-Lear...</td>\n",
       "    </tr>\n",
       "    <tr>\n",
       "      <th>11</th>\n",
       "      <td>a1studmuffin</td>\n",
       "      <td>SpaceshipGenerator</td>\n",
       "      <td>7100</td>\n",
       "      <td>https://github.com/a1studmuffin/SpaceshipGener...</td>\n",
       "    </tr>\n",
       "    <tr>\n",
       "      <th>12</th>\n",
       "      <td>isl-org</td>\n",
       "      <td>Open3D</td>\n",
       "      <td>6200</td>\n",
       "      <td>https://github.com/isl-org/Open3D</td>\n",
       "    </tr>\n",
       "    <tr>\n",
       "      <th>13</th>\n",
       "      <td>domlysz</td>\n",
       "      <td>BlenderGIS</td>\n",
       "      <td>4900</td>\n",
       "      <td>https://github.com/domlysz/BlenderGIS</td>\n",
       "    </tr>\n",
       "    <tr>\n",
       "      <th>14</th>\n",
       "      <td>blender</td>\n",
       "      <td>blender</td>\n",
       "      <td>4800</td>\n",
       "      <td>https://github.com/blender/blender</td>\n",
       "    </tr>\n",
       "    <tr>\n",
       "      <th>15</th>\n",
       "      <td>spritejs</td>\n",
       "      <td>spritejs</td>\n",
       "      <td>4800</td>\n",
       "      <td>https://github.com/spritejs/spritejs</td>\n",
       "    </tr>\n",
       "    <tr>\n",
       "      <th>16</th>\n",
       "      <td>openscad</td>\n",
       "      <td>openscad</td>\n",
       "      <td>4600</td>\n",
       "      <td>https://github.com/openscad/openscad</td>\n",
       "    </tr>\n",
       "    <tr>\n",
       "      <th>17</th>\n",
       "      <td>tensorspace-team</td>\n",
       "      <td>tensorspace</td>\n",
       "      <td>4600</td>\n",
       "      <td>https://github.com/tensorspace-team/tensorspace</td>\n",
       "    </tr>\n",
       "    <tr>\n",
       "      <th>18</th>\n",
       "      <td>jagenjo</td>\n",
       "      <td>webglstudio.js</td>\n",
       "      <td>4600</td>\n",
       "      <td>https://github.com/jagenjo/webglstudio.js</td>\n",
       "    </tr>\n",
       "    <tr>\n",
       "      <th>19</th>\n",
       "      <td>YadiraF</td>\n",
       "      <td>PRNet</td>\n",
       "      <td>4500</td>\n",
       "      <td>https://github.com/YadiraF/PRNet</td>\n",
       "    </tr>\n",
       "    <tr>\n",
       "      <th>20</th>\n",
       "      <td>AaronJackson</td>\n",
       "      <td>vrn</td>\n",
       "      <td>4400</td>\n",
       "      <td>https://github.com/AaronJackson/vrn</td>\n",
       "    </tr>\n",
       "    <tr>\n",
       "      <th>21</th>\n",
       "      <td>ssloy</td>\n",
       "      <td>tinyraytracer</td>\n",
       "      <td>4100</td>\n",
       "      <td>https://github.com/ssloy/tinyraytracer</td>\n",
       "    </tr>\n",
       "    <tr>\n",
       "      <th>22</th>\n",
       "      <td>google</td>\n",
       "      <td>model-viewer</td>\n",
       "      <td>4000</td>\n",
       "      <td>https://github.com/google/model-viewer</td>\n",
       "    </tr>\n",
       "    <tr>\n",
       "      <th>23</th>\n",
       "      <td>mosra</td>\n",
       "      <td>magnum</td>\n",
       "      <td>3800</td>\n",
       "      <td>https://github.com/mosra/magnum</td>\n",
       "    </tr>\n",
       "    <tr>\n",
       "      <th>24</th>\n",
       "      <td>gfxfundamentals</td>\n",
       "      <td>webgl-fundamentals</td>\n",
       "      <td>3400</td>\n",
       "      <td>https://github.com/gfxfundamentals/webgl-funda...</td>\n",
       "    </tr>\n",
       "    <tr>\n",
       "      <th>25</th>\n",
       "      <td>FyroxEngine</td>\n",
       "      <td>Fyrox</td>\n",
       "      <td>3400</td>\n",
       "      <td>https://github.com/FyroxEngine/Fyrox</td>\n",
       "    </tr>\n",
       "    <tr>\n",
       "      <th>26</th>\n",
       "      <td>cleardusk</td>\n",
       "      <td>3DDFA</td>\n",
       "      <td>3200</td>\n",
       "      <td>https://github.com/cleardusk/3DDFA</td>\n",
       "    </tr>\n",
       "    <tr>\n",
       "      <th>27</th>\n",
       "      <td>tengbao</td>\n",
       "      <td>vanta</td>\n",
       "      <td>3200</td>\n",
       "      <td>https://github.com/tengbao/vanta</td>\n",
       "    </tr>\n",
       "    <tr>\n",
       "      <th>28</th>\n",
       "      <td>jasonlong</td>\n",
       "      <td>isometric-contributions</td>\n",
       "      <td>3100</td>\n",
       "      <td>https://github.com/jasonlong/isometric-contrib...</td>\n",
       "    </tr>\n",
       "    <tr>\n",
       "      <th>29</th>\n",
       "      <td>cnr-isti-vclab</td>\n",
       "      <td>meshlab</td>\n",
       "      <td>2800</td>\n",
       "      <td>https://github.com/cnr-isti-vclab/meshlab</td>\n",
       "    </tr>\n",
       "  </tbody>\n",
       "</table>\n",
       "</div>"
      ],
      "text/plain": [
       "            Username                      Repo_Name  Stars  \\\n",
       "0             mrdoob                       three.js  79400   \n",
       "1             libgdx                         libgdx  19700   \n",
       "2             pmndrs              react-three-fiber  16900   \n",
       "3          BabylonJS                     Babylon.js  16000   \n",
       "4           aframevr                         aframe  13800   \n",
       "5            lettier  3d-game-shaders-for-beginners  12300   \n",
       "6              ssloy                   tinyrenderer  12100   \n",
       "7            FreeCAD                        FreeCAD  10800   \n",
       "8          metafizzy                           zdog   9000   \n",
       "9           CesiumGS                         cesium   8300   \n",
       "10       timzhang642            3D-Machine-Learning   7600   \n",
       "11      a1studmuffin             SpaceshipGenerator   7100   \n",
       "12           isl-org                         Open3D   6200   \n",
       "13           domlysz                     BlenderGIS   4900   \n",
       "14           blender                        blender   4800   \n",
       "15          spritejs                       spritejs   4800   \n",
       "16          openscad                       openscad   4600   \n",
       "17  tensorspace-team                    tensorspace   4600   \n",
       "18           jagenjo                 webglstudio.js   4600   \n",
       "19           YadiraF                          PRNet   4500   \n",
       "20      AaronJackson                            vrn   4400   \n",
       "21             ssloy                  tinyraytracer   4100   \n",
       "22            google                   model-viewer   4000   \n",
       "23             mosra                         magnum   3800   \n",
       "24   gfxfundamentals             webgl-fundamentals   3400   \n",
       "25       FyroxEngine                          Fyrox   3400   \n",
       "26         cleardusk                          3DDFA   3200   \n",
       "27           tengbao                          vanta   3200   \n",
       "28         jasonlong        isometric-contributions   3100   \n",
       "29    cnr-isti-vclab                        meshlab   2800   \n",
       "\n",
       "                                             Repo_URL  \n",
       "0                  https://github.com/mrdoob/three.js  \n",
       "1                    https://github.com/libgdx/libgdx  \n",
       "2         https://github.com/pmndrs/react-three-fiber  \n",
       "3             https://github.com/BabylonJS/Babylon.js  \n",
       "4                  https://github.com/aframevr/aframe  \n",
       "5   https://github.com/lettier/3d-game-shaders-for...  \n",
       "6               https://github.com/ssloy/tinyrenderer  \n",
       "7                  https://github.com/FreeCAD/FreeCAD  \n",
       "8                   https://github.com/metafizzy/zdog  \n",
       "9                  https://github.com/CesiumGS/cesium  \n",
       "10  https://github.com/timzhang642/3D-Machine-Lear...  \n",
       "11  https://github.com/a1studmuffin/SpaceshipGener...  \n",
       "12                  https://github.com/isl-org/Open3D  \n",
       "13              https://github.com/domlysz/BlenderGIS  \n",
       "14                 https://github.com/blender/blender  \n",
       "15               https://github.com/spritejs/spritejs  \n",
       "16               https://github.com/openscad/openscad  \n",
       "17    https://github.com/tensorspace-team/tensorspace  \n",
       "18          https://github.com/jagenjo/webglstudio.js  \n",
       "19                   https://github.com/YadiraF/PRNet  \n",
       "20                https://github.com/AaronJackson/vrn  \n",
       "21             https://github.com/ssloy/tinyraytracer  \n",
       "22             https://github.com/google/model-viewer  \n",
       "23                    https://github.com/mosra/magnum  \n",
       "24  https://github.com/gfxfundamentals/webgl-funda...  \n",
       "25               https://github.com/FyroxEngine/Fyrox  \n",
       "26                 https://github.com/cleardusk/3DDFA  \n",
       "27                   https://github.com/tengbao/vanta  \n",
       "28  https://github.com/jasonlong/isometric-contrib...  \n",
       "29          https://github.com/cnr-isti-vclab/meshlab  "
      ]
     },
     "execution_count": 33,
     "metadata": {},
     "output_type": "execute_result"
    }
   ],
   "source": [
    "get_topics_repos(doc)"
   ]
  },
  {
   "cell_type": "markdown",
   "metadata": {},
   "source": [
    "### Creating Repository-Wise CSV Files"
   ]
  },
  {
   "cell_type": "code",
   "execution_count": 34,
   "metadata": {},
   "outputs": [],
   "source": [
    "def scrape_topic(topic_url, path):\n",
    "    if os.path.exists(path):\n",
    "        print(\"The file already {} exists. Skipping.....\".format(path))\n",
    "        return\n",
    "    topic_df = get_topics_repos(get_topic_page(topic_url))\n",
    "    topic_df.to_csv(path, index=None)"
   ]
  },
  {
   "cell_type": "markdown",
   "metadata": {},
   "source": [
    "## 2. Create a CSV file in the following format:\n",
    "```\n",
    "  Repo Name,Username,Stars,Repo URL\n",
    "  three.js,mrdoob,69700,https://github.com/mrdoob/three.js\n",
    "  libgdx,libgdx,18300,https://github.com/libgdx/libgdx\n",
    "```"
   ]
  },
  {
   "cell_type": "markdown",
   "metadata": {},
   "source": [
    "## Final Function i.e. `scrape_topics_repo`\n",
    "\n",
    "- First, we have a function to get a list of topics from TOPICS Page on Github\n",
    "- Then we have `scrape_topic` to create a CSV File for scraped repos\n",
    "- Then we have `scrape_topics_repo()` function to put everything together"
   ]
  },
  {
   "cell_type": "code",
   "execution_count": 36,
   "metadata": {},
   "outputs": [],
   "source": [
    "def scrape_topics_repo():\n",
    "    print('Scraping list of topics')\n",
    "    topics_df = scrape_topics()\n",
    "    \n",
    "    os.makedirs('data', exist_ok=True)\n",
    "    \n",
    "    for index, row in topics_df.iterrows():\n",
    "        print('Scraping top reprositories for \"{}\"'.format(row['Title']))\n",
    "        scrape_topic(row['URL'], 'Repo-Dataset/{}.csv'.format(row['Title']))"
   ]
  },
  {
   "cell_type": "markdown",
   "metadata": {},
   "source": [
    "Let's run the above code to scrape all the top repos for all the topics on the first page of https://github.com/topics/"
   ]
  },
  {
   "cell_type": "code",
   "execution_count": 37,
   "metadata": {},
   "outputs": [
    {
     "name": "stdout",
     "output_type": "stream",
     "text": [
      "Scraping list of topics\n",
      "Scraping top reprositories for \"3D\"\n",
      "Scraping top reprositories for \"Ajax\"\n",
      "Scraping top reprositories for \"Algorithm\"\n",
      "Scraping top reprositories for \"Amp\"\n",
      "Scraping top reprositories for \"Android\"\n",
      "Scraping top reprositories for \"Angular\"\n",
      "Scraping top reprositories for \"Ansible\"\n",
      "Scraping top reprositories for \"API\"\n",
      "Scraping top reprositories for \"Arduino\"\n",
      "Scraping top reprositories for \"ASP.NET\"\n",
      "Scraping top reprositories for \"Atom\"\n",
      "Scraping top reprositories for \"Awesome Lists\"\n",
      "Scraping top reprositories for \"Amazon Web Services\"\n",
      "Scraping top reprositories for \"Azure\"\n",
      "Scraping top reprositories for \"Babel\"\n",
      "Scraping top reprositories for \"Bash\"\n",
      "Scraping top reprositories for \"Bitcoin\"\n",
      "Scraping top reprositories for \"Bootstrap\"\n",
      "Scraping top reprositories for \"Bot\"\n",
      "Scraping top reprositories for \"C\"\n",
      "Scraping top reprositories for \"Chrome\"\n",
      "Scraping top reprositories for \"Chrome extension\"\n",
      "Scraping top reprositories for \"Command line interface\"\n",
      "Scraping top reprositories for \"Clojure\"\n",
      "Scraping top reprositories for \"Code quality\"\n",
      "Scraping top reprositories for \"Code review\"\n",
      "Scraping top reprositories for \"Compiler\"\n",
      "Scraping top reprositories for \"Continuous integration\"\n",
      "Scraping top reprositories for \"COVID-19\"\n",
      "Scraping top reprositories for \"C++\"\n"
     ]
    }
   ],
   "source": [
    "scrape_topics_repo()"
   ]
  },
  {
   "cell_type": "markdown",
   "metadata": {},
   "source": [
    "To check whether CSVs are created properly or not: Read and display CSVs using PANDAS"
   ]
  },
  {
   "cell_type": "code",
   "execution_count": 38,
   "metadata": {},
   "outputs": [
    {
     "data": {
      "text/html": [
       "<div>\n",
       "<style scoped>\n",
       "    .dataframe tbody tr th:only-of-type {\n",
       "        vertical-align: middle;\n",
       "    }\n",
       "\n",
       "    .dataframe tbody tr th {\n",
       "        vertical-align: top;\n",
       "    }\n",
       "\n",
       "    .dataframe thead th {\n",
       "        text-align: right;\n",
       "    }\n",
       "</style>\n",
       "<table border=\"1\" class=\"dataframe\">\n",
       "  <thead>\n",
       "    <tr style=\"text-align: right;\">\n",
       "      <th></th>\n",
       "      <th>Username</th>\n",
       "      <th>Repo_Name</th>\n",
       "      <th>Stars</th>\n",
       "      <th>Repo_URL</th>\n",
       "    </tr>\n",
       "  </thead>\n",
       "  <tbody>\n",
       "    <tr>\n",
       "      <th>0</th>\n",
       "      <td>ccxt</td>\n",
       "      <td>ccxt</td>\n",
       "      <td>23400</td>\n",
       "      <td>https://github.com/ccxt/ccxt</td>\n",
       "    </tr>\n",
       "    <tr>\n",
       "      <th>1</th>\n",
       "      <td>python-telegram-bot</td>\n",
       "      <td>python-telegram-bot</td>\n",
       "      <td>17700</td>\n",
       "      <td>https://github.com/python-telegram-bot/python-...</td>\n",
       "    </tr>\n",
       "    <tr>\n",
       "      <th>2</th>\n",
       "      <td>discordjs</td>\n",
       "      <td>discord.js</td>\n",
       "      <td>17500</td>\n",
       "      <td>https://github.com/discordjs/discord.js</td>\n",
       "    </tr>\n",
       "    <tr>\n",
       "      <th>3</th>\n",
       "      <td>hubotio</td>\n",
       "      <td>hubot</td>\n",
       "      <td>16100</td>\n",
       "      <td>https://github.com/hubotio/hubot</td>\n",
       "    </tr>\n",
       "    <tr>\n",
       "      <th>4</th>\n",
       "      <td>InstaPy</td>\n",
       "      <td>InstaPy</td>\n",
       "      <td>13900</td>\n",
       "      <td>https://github.com/InstaPy/InstaPy</td>\n",
       "    </tr>\n",
       "    <tr>\n",
       "      <th>5</th>\n",
       "      <td>RasaHQ</td>\n",
       "      <td>rasa</td>\n",
       "      <td>13600</td>\n",
       "      <td>https://github.com/RasaHQ/rasa</td>\n",
       "    </tr>\n",
       "    <tr>\n",
       "      <th>6</th>\n",
       "      <td>wechaty</td>\n",
       "      <td>wechaty</td>\n",
       "      <td>12100</td>\n",
       "      <td>https://github.com/wechaty/wechaty</td>\n",
       "    </tr>\n",
       "    <tr>\n",
       "      <th>7</th>\n",
       "      <td>gunthercox</td>\n",
       "      <td>ChatterBot</td>\n",
       "      <td>12000</td>\n",
       "      <td>https://github.com/gunthercox/ChatterBot</td>\n",
       "    </tr>\n",
       "    <tr>\n",
       "      <th>8</th>\n",
       "      <td>howdyai</td>\n",
       "      <td>botkit</td>\n",
       "      <td>10600</td>\n",
       "      <td>https://github.com/howdyai/botkit</td>\n",
       "    </tr>\n",
       "    <tr>\n",
       "      <th>9</th>\n",
       "      <td>botpress</td>\n",
       "      <td>botpress</td>\n",
       "      <td>9600</td>\n",
       "      <td>https://github.com/botpress/botpress</td>\n",
       "    </tr>\n",
       "    <tr>\n",
       "      <th>10</th>\n",
       "      <td>sfyc23</td>\n",
       "      <td>EverydayWechat</td>\n",
       "      <td>8800</td>\n",
       "      <td>https://github.com/sfyc23/EverydayWechat</td>\n",
       "    </tr>\n",
       "    <tr>\n",
       "      <th>11</th>\n",
       "      <td>tgbot-collection</td>\n",
       "      <td>YYeTsBot</td>\n",
       "      <td>8800</td>\n",
       "      <td>https://github.com/tgbot-collection/YYeTsBot</td>\n",
       "    </tr>\n",
       "    <tr>\n",
       "      <th>12</th>\n",
       "      <td>leon-ai</td>\n",
       "      <td>leon</td>\n",
       "      <td>8500</td>\n",
       "      <td>https://github.com/leon-ai/leon</td>\n",
       "    </tr>\n",
       "    <tr>\n",
       "      <th>13</th>\n",
       "      <td>microsoft</td>\n",
       "      <td>ailab</td>\n",
       "      <td>6900</td>\n",
       "      <td>https://github.com/microsoft/ailab</td>\n",
       "    </tr>\n",
       "    <tr>\n",
       "      <th>14</th>\n",
       "      <td>EZFNDEV</td>\n",
       "      <td>EZFN-Lobbybot</td>\n",
       "      <td>6900</td>\n",
       "      <td>https://github.com/EZFNDEV/EZFN-Lobbybot</td>\n",
       "    </tr>\n",
       "    <tr>\n",
       "      <th>15</th>\n",
       "      <td>microsoft</td>\n",
       "      <td>botframework-sdk</td>\n",
       "      <td>6700</td>\n",
       "      <td>https://github.com/microsoft/botframework-sdk</td>\n",
       "    </tr>\n",
       "    <tr>\n",
       "      <th>16</th>\n",
       "      <td>maxbbraun</td>\n",
       "      <td>trump2cash</td>\n",
       "      <td>6100</td>\n",
       "      <td>https://github.com/maxbbraun/trump2cash</td>\n",
       "    </tr>\n",
       "    <tr>\n",
       "      <th>17</th>\n",
       "      <td>yagop</td>\n",
       "      <td>node-telegram-bot-api</td>\n",
       "      <td>5900</td>\n",
       "      <td>https://github.com/yagop/node-telegram-bot-api</td>\n",
       "    </tr>\n",
       "    <tr>\n",
       "      <th>18</th>\n",
       "      <td>deepmipt</td>\n",
       "      <td>DeepPavlov</td>\n",
       "      <td>5600</td>\n",
       "      <td>https://github.com/deepmipt/DeepPavlov</td>\n",
       "    </tr>\n",
       "    <tr>\n",
       "      <th>19</th>\n",
       "      <td>botman</td>\n",
       "      <td>botman</td>\n",
       "      <td>5600</td>\n",
       "      <td>https://github.com/botman/botman</td>\n",
       "    </tr>\n",
       "    <tr>\n",
       "      <th>20</th>\n",
       "      <td>telegraf</td>\n",
       "      <td>telegraf</td>\n",
       "      <td>5400</td>\n",
       "      <td>https://github.com/telegraf/telegraf</td>\n",
       "    </tr>\n",
       "    <tr>\n",
       "      <th>21</th>\n",
       "      <td>pedroslopez</td>\n",
       "      <td>whatsapp-web.js</td>\n",
       "      <td>4900</td>\n",
       "      <td>https://github.com/pedroslopez/whatsapp-web.js</td>\n",
       "    </tr>\n",
       "    <tr>\n",
       "      <th>22</th>\n",
       "      <td>axa-group</td>\n",
       "      <td>nlp.js</td>\n",
       "      <td>4800</td>\n",
       "      <td>https://github.com/axa-group/nlp.js</td>\n",
       "    </tr>\n",
       "    <tr>\n",
       "      <th>23</th>\n",
       "      <td>jef</td>\n",
       "      <td>streetmerchant</td>\n",
       "      <td>4800</td>\n",
       "      <td>https://github.com/jef/streetmerchant</td>\n",
       "    </tr>\n",
       "    <tr>\n",
       "      <th>24</th>\n",
       "      <td>ohld</td>\n",
       "      <td>igbot</td>\n",
       "      <td>4100</td>\n",
       "      <td>https://github.com/ohld/igbot</td>\n",
       "    </tr>\n",
       "    <tr>\n",
       "      <th>25</th>\n",
       "      <td>Mrs4s</td>\n",
       "      <td>go-cqhttp</td>\n",
       "      <td>4000</td>\n",
       "      <td>https://github.com/Mrs4s/go-cqhttp</td>\n",
       "    </tr>\n",
       "    <tr>\n",
       "      <th>26</th>\n",
       "      <td>Yoctol</td>\n",
       "      <td>bottender</td>\n",
       "      <td>3800</td>\n",
       "      <td>https://github.com/Yoctol/bottender</td>\n",
       "    </tr>\n",
       "    <tr>\n",
       "      <th>27</th>\n",
       "      <td>PokemonGoF</td>\n",
       "      <td>PokemonGo-Bot</td>\n",
       "      <td>3700</td>\n",
       "      <td>https://github.com/PokemonGoF/PokemonGo-Bot</td>\n",
       "    </tr>\n",
       "    <tr>\n",
       "      <th>28</th>\n",
       "      <td>chrisleekr</td>\n",
       "      <td>binance-trading-bot</td>\n",
       "      <td>3700</td>\n",
       "      <td>https://github.com/chrisleekr/binance-trading-bot</td>\n",
       "    </tr>\n",
       "    <tr>\n",
       "      <th>29</th>\n",
       "      <td>snipsco</td>\n",
       "      <td>snips-nlu</td>\n",
       "      <td>3600</td>\n",
       "      <td>https://github.com/snipsco/snips-nlu</td>\n",
       "    </tr>\n",
       "  </tbody>\n",
       "</table>\n",
       "</div>"
      ],
      "text/plain": [
       "               Username              Repo_Name  Stars  \\\n",
       "0                  ccxt                   ccxt  23400   \n",
       "1   python-telegram-bot    python-telegram-bot  17700   \n",
       "2             discordjs             discord.js  17500   \n",
       "3               hubotio                  hubot  16100   \n",
       "4               InstaPy                InstaPy  13900   \n",
       "5                RasaHQ                   rasa  13600   \n",
       "6               wechaty                wechaty  12100   \n",
       "7            gunthercox             ChatterBot  12000   \n",
       "8               howdyai                 botkit  10600   \n",
       "9              botpress               botpress   9600   \n",
       "10               sfyc23         EverydayWechat   8800   \n",
       "11     tgbot-collection               YYeTsBot   8800   \n",
       "12              leon-ai                   leon   8500   \n",
       "13            microsoft                  ailab   6900   \n",
       "14              EZFNDEV          EZFN-Lobbybot   6900   \n",
       "15            microsoft       botframework-sdk   6700   \n",
       "16            maxbbraun             trump2cash   6100   \n",
       "17                yagop  node-telegram-bot-api   5900   \n",
       "18             deepmipt             DeepPavlov   5600   \n",
       "19               botman                 botman   5600   \n",
       "20             telegraf               telegraf   5400   \n",
       "21          pedroslopez        whatsapp-web.js   4900   \n",
       "22            axa-group                 nlp.js   4800   \n",
       "23                  jef         streetmerchant   4800   \n",
       "24                 ohld                  igbot   4100   \n",
       "25                Mrs4s              go-cqhttp   4000   \n",
       "26               Yoctol              bottender   3800   \n",
       "27           PokemonGoF          PokemonGo-Bot   3700   \n",
       "28           chrisleekr    binance-trading-bot   3700   \n",
       "29              snipsco              snips-nlu   3600   \n",
       "\n",
       "                                             Repo_URL  \n",
       "0                        https://github.com/ccxt/ccxt  \n",
       "1   https://github.com/python-telegram-bot/python-...  \n",
       "2             https://github.com/discordjs/discord.js  \n",
       "3                    https://github.com/hubotio/hubot  \n",
       "4                  https://github.com/InstaPy/InstaPy  \n",
       "5                      https://github.com/RasaHQ/rasa  \n",
       "6                  https://github.com/wechaty/wechaty  \n",
       "7            https://github.com/gunthercox/ChatterBot  \n",
       "8                   https://github.com/howdyai/botkit  \n",
       "9                https://github.com/botpress/botpress  \n",
       "10           https://github.com/sfyc23/EverydayWechat  \n",
       "11       https://github.com/tgbot-collection/YYeTsBot  \n",
       "12                    https://github.com/leon-ai/leon  \n",
       "13                 https://github.com/microsoft/ailab  \n",
       "14           https://github.com/EZFNDEV/EZFN-Lobbybot  \n",
       "15      https://github.com/microsoft/botframework-sdk  \n",
       "16            https://github.com/maxbbraun/trump2cash  \n",
       "17     https://github.com/yagop/node-telegram-bot-api  \n",
       "18             https://github.com/deepmipt/DeepPavlov  \n",
       "19                   https://github.com/botman/botman  \n",
       "20               https://github.com/telegraf/telegraf  \n",
       "21     https://github.com/pedroslopez/whatsapp-web.js  \n",
       "22                https://github.com/axa-group/nlp.js  \n",
       "23              https://github.com/jef/streetmerchant  \n",
       "24                      https://github.com/ohld/igbot  \n",
       "25                 https://github.com/Mrs4s/go-cqhttp  \n",
       "26                https://github.com/Yoctol/bottender  \n",
       "27        https://github.com/PokemonGoF/PokemonGo-Bot  \n",
       "28  https://github.com/chrisleekr/binance-trading-bot  \n",
       "29               https://github.com/snipsco/snips-nlu  "
      ]
     },
     "execution_count": 38,
     "metadata": {},
     "output_type": "execute_result"
    }
   ],
   "source": [
    "pd.read_csv(\"Repo-Dataset/Bot.csv\")"
   ]
  },
  {
   "cell_type": "markdown",
   "metadata": {},
   "source": [
    "## References\n",
    "\n",
    "Summary of what I did:\n",
    "\n",
    "- SCRAPED GITHUB Topics Page\n",
    "- CREATED CSV files for all the repos available on the first page\n",
    "\n",
    "\n",
    "References to links I found useful:\n",
    "\n",
    "- https://github.com/topics/\n",
    "- https://www.youtube.com/\n"
   ]
  }
 ],
 "metadata": {
  "kernelspec": {
   "display_name": "Python 3",
   "language": "python",
   "name": "python3"
  },
  "language_info": {
   "codemirror_mode": {
    "name": "ipython",
    "version": 3
   },
   "file_extension": ".py",
   "mimetype": "text/x-python",
   "name": "python",
   "nbconvert_exporter": "python",
   "pygments_lexer": "ipython3",
   "version": "3.7.3"
  }
 },
 "nbformat": 4,
 "nbformat_minor": 2
}
